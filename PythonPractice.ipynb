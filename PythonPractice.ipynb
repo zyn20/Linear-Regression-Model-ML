{
  "nbformat": 4,
  "nbformat_minor": 0,
  "metadata": {
    "colab": {
      "provenance": [],
      "authorship_tag": "ABX9TyPfadsrVG3aT9CwITrKWPI+",
      "include_colab_link": true
    },
    "kernelspec": {
      "name": "python3",
      "display_name": "Python 3"
    },
    "language_info": {
      "name": "python"
    }
  },
  "cells": [
    {
      "cell_type": "markdown",
      "metadata": {
        "id": "view-in-github",
        "colab_type": "text"
      },
      "source": [
        "<a href=\"https://colab.research.google.com/github/zyn20/Linear-Regression-Model-ML/blob/main/PythonPractice.ipynb\" target=\"_parent\"><img src=\"https://colab.research.google.com/assets/colab-badge.svg\" alt=\"Open In Colab\"/></a>"
      ]
    },
    {
      "cell_type": "code",
      "execution_count": null,
      "metadata": {
        "id": "EUb7jurNaTTl"
      },
      "outputs": [],
      "source": []
    },
    {
      "cell_type": "code",
      "source": [
        "name = input('What is your name')\n",
        "print(name)"
      ],
      "metadata": {
        "colab": {
          "base_uri": "https://localhost:8080/"
        },
        "id": "Vr5Jtm1nO_ld",
        "outputId": "06ec32eb-39fc-4235-c0df-9f333e939e13"
      },
      "execution_count": null,
      "outputs": [
        {
          "output_type": "stream",
          "name": "stdout",
          "text": [
            "What is your namezain\n",
            "zain\n"
          ]
        }
      ]
    },
    {
      "cell_type": "code",
      "source": [
        "candidates = ['zain','abdullah','Zahida','Fahad','Zahid','Faisal']\n",
        "for cand in candidates:\n",
        "  print(cand)"
      ],
      "metadata": {
        "id": "zwkyr8xGPE5Z",
        "colab": {
          "base_uri": "https://localhost:8080/"
        },
        "outputId": "19f92e1d-d1bb-484b-e52d-2c1d627fde0f"
      },
      "execution_count": null,
      "outputs": [
        {
          "output_type": "stream",
          "name": "stdout",
          "text": [
            "zain\n",
            "abdullah\n",
            "Zahida\n",
            "Fahad\n",
            "Zahid\n",
            "Faisal\n"
          ]
        }
      ]
    },
    {
      "cell_type": "code",
      "source": [
        "largest = None\n",
        "numbers = [10,20,211,-321,-1000]\n",
        "for i in numbers:\n",
        "  if largest is None or i > largest:\n",
        "    largest = i\n",
        "    print('Loop',i,largest)\n",
        "print(largest)"
      ],
      "metadata": {
        "colab": {
          "base_uri": "https://localhost:8080/"
        },
        "id": "i19pW3byAAak",
        "outputId": "d56021f8-9fd4-4b74-af80-487e945e5de1"
      },
      "execution_count": null,
      "outputs": [
        {
          "output_type": "stream",
          "name": "stdout",
          "text": [
            "Loop 10 10\n",
            "Loop 20 20\n",
            "Loop 211 211\n",
            "211\n"
          ]
        }
      ]
    },
    {
      "cell_type": "code",
      "source": [
        "print(min('zain'))"
      ],
      "metadata": {
        "colab": {
          "base_uri": "https://localhost:8080/"
        },
        "id": "xx-GQtCjASsD",
        "outputId": "a9a71cd8-daf4-4769-c34a-68d171f60094"
      },
      "execution_count": null,
      "outputs": [
        {
          "output_type": "stream",
          "name": "stdout",
          "text": [
            "a\n"
          ]
        }
      ]
    },
    {
      "cell_type": "code",
      "source": [
        "print(ord('a'))"
      ],
      "metadata": {
        "colab": {
          "base_uri": "https://localhost:8080/"
        },
        "id": "vITAnVhiOJa4",
        "outputId": "2e05aada-ad3b-44ca-da78-f15af4ceb3a8"
      },
      "execution_count": null,
      "outputs": [
        {
          "output_type": "stream",
          "name": "stdout",
          "text": [
            "97\n"
          ]
        }
      ]
    },
    {
      "cell_type": "code",
      "source": [
        "import random"
      ],
      "metadata": {
        "id": "0Pk3YbifOLba"
      },
      "execution_count": null,
      "outputs": []
    },
    {
      "cell_type": "code",
      "source": [
        "random.random()"
      ],
      "metadata": {
        "colab": {
          "base_uri": "https://localhost:8080/"
        },
        "id": "ua7YKykRPMTh",
        "outputId": "070c0ce6-a2e3-4993-ab80-6280fc6c8e2d"
      },
      "execution_count": null,
      "outputs": [
        {
          "output_type": "execute_result",
          "data": {
            "text/plain": [
              "0.5258391037658452"
            ]
          },
          "metadata": {},
          "execution_count": 15
        }
      ]
    },
    {
      "cell_type": "code",
      "source": [
        "random.randint(1,10)"
      ],
      "metadata": {
        "colab": {
          "base_uri": "https://localhost:8080/"
        },
        "id": "_FYhW4qNPOKX",
        "outputId": "d65d46a0-e410-4e43-a1da-86f1b5ee0f5c"
      },
      "execution_count": null,
      "outputs": [
        {
          "output_type": "execute_result",
          "data": {
            "text/plain": [
              "7"
            ]
          },
          "metadata": {},
          "execution_count": 16
        }
      ]
    },
    {
      "cell_type": "code",
      "source": [
        "names = ['Zain','Zaeem','Abudllah']\n",
        "random.choice(names)"
      ],
      "metadata": {
        "colab": {
          "base_uri": "https://localhost:8080/",
          "height": 36
        },
        "id": "brppJUkoPSHf",
        "outputId": "bc335d46-3dc2-4e36-b39a-e91b57641a73"
      },
      "execution_count": null,
      "outputs": [
        {
          "output_type": "execute_result",
          "data": {
            "text/plain": [
              "'Zain'"
            ],
            "application/vnd.google.colaboratory.intrinsic+json": {
              "type": "string"
            }
          },
          "metadata": {},
          "execution_count": 18
        }
      ]
    },
    {
      "cell_type": "code",
      "source": [
        "def randonFunction (names):\n",
        "  return random.choice(names)\n"
      ],
      "metadata": {
        "id": "_lucSEErPlLa"
      },
      "execution_count": null,
      "outputs": []
    },
    {
      "cell_type": "code",
      "source": [
        "randonFunction(['ZAin','ABD'])"
      ],
      "metadata": {
        "colab": {
          "base_uri": "https://localhost:8080/",
          "height": 36
        },
        "id": "vC5fwbKjP-Jy",
        "outputId": "0172565a-27ec-41b1-e8a0-d979461dbf8a"
      },
      "execution_count": null,
      "outputs": [
        {
          "output_type": "execute_result",
          "data": {
            "text/plain": [
              "'ABD'"
            ],
            "application/vnd.google.colaboratory.intrinsic+json": {
              "type": "string"
            }
          },
          "metadata": {},
          "execution_count": 32
        }
      ]
    },
    {
      "cell_type": "code",
      "source": [
        "stringg = 'Mera naam zian hai'\n",
        "print(stringg[5:])\n"
      ],
      "metadata": {
        "colab": {
          "base_uri": "https://localhost:8080/"
        },
        "id": "v4Ic5nQyQHEk",
        "outputId": "5331f476-ba37-4e09-f950-4a0f678aa723"
      },
      "execution_count": null,
      "outputs": [
        {
          "output_type": "stream",
          "name": "stdout",
          "text": [
            "naam zian hai\n"
          ]
        }
      ]
    },
    {
      "cell_type": "code",
      "source": [
        "name = 'zain'\n",
        "new = 'P'+name[1:]\n",
        "print(new)"
      ],
      "metadata": {
        "colab": {
          "base_uri": "https://localhost:8080/"
        },
        "id": "YyTCgi_EQLO3",
        "outputId": "1b1d5b11-f2eb-4115-e7dc-e2b5d069e0ee"
      },
      "execution_count": null,
      "outputs": [
        {
          "output_type": "stream",
          "name": "stdout",
          "text": [
            "Pain\n"
          ]
        }
      ]
    },
    {
      "cell_type": "code",
      "source": [
        "word = 'fuckmefuckemfuckemfud'\n",
        "count = 0\n",
        "for i in word:\n",
        "  if i=='f':\n",
        "    count=count+1\n",
        "  else:\n",
        "    pass\n",
        "print('The cout of a is :', count)"
      ],
      "metadata": {
        "colab": {
          "base_uri": "https://localhost:8080/"
        },
        "id": "_DnORBfXJs5a",
        "outputId": "8246f6df-a232-4549-8aa6-d7f0eb63062e"
      },
      "execution_count": null,
      "outputs": [
        {
          "output_type": "stream",
          "name": "stdout",
          "text": [
            "The cout of a is : 4\n"
          ]
        }
      ]
    },
    {
      "cell_type": "code",
      "source": [
        "'a' in 'zain'"
      ],
      "metadata": {
        "colab": {
          "base_uri": "https://localhost:8080/"
        },
        "id": "VWMKrOP6KSSA",
        "outputId": "7617a7f6-1f54-4070-e001-234267b5f3dc"
      },
      "execution_count": null,
      "outputs": [
        {
          "output_type": "execute_result",
          "data": {
            "text/plain": [
              "True"
            ]
          },
          "metadata": {},
          "execution_count": 9
        }
      ]
    },
    {
      "cell_type": "code",
      "source": [
        "dir(word)"
      ],
      "metadata": {
        "colab": {
          "base_uri": "https://localhost:8080/"
        },
        "id": "7kqO3F22K79p",
        "outputId": "8547ee9d-9247-4c24-c97e-fa95ff4d69cd"
      },
      "execution_count": null,
      "outputs": [
        {
          "output_type": "execute_result",
          "data": {
            "text/plain": [
              "['__add__',\n",
              " '__class__',\n",
              " '__contains__',\n",
              " '__delattr__',\n",
              " '__dir__',\n",
              " '__doc__',\n",
              " '__eq__',\n",
              " '__format__',\n",
              " '__ge__',\n",
              " '__getattribute__',\n",
              " '__getitem__',\n",
              " '__getnewargs__',\n",
              " '__gt__',\n",
              " '__hash__',\n",
              " '__init__',\n",
              " '__init_subclass__',\n",
              " '__iter__',\n",
              " '__le__',\n",
              " '__len__',\n",
              " '__lt__',\n",
              " '__mod__',\n",
              " '__mul__',\n",
              " '__ne__',\n",
              " '__new__',\n",
              " '__reduce__',\n",
              " '__reduce_ex__',\n",
              " '__repr__',\n",
              " '__rmod__',\n",
              " '__rmul__',\n",
              " '__setattr__',\n",
              " '__sizeof__',\n",
              " '__str__',\n",
              " '__subclasshook__',\n",
              " 'capitalize',\n",
              " 'casefold',\n",
              " 'center',\n",
              " 'count',\n",
              " 'encode',\n",
              " 'endswith',\n",
              " 'expandtabs',\n",
              " 'find',\n",
              " 'format',\n",
              " 'format_map',\n",
              " 'index',\n",
              " 'isalnum',\n",
              " 'isalpha',\n",
              " 'isascii',\n",
              " 'isdecimal',\n",
              " 'isdigit',\n",
              " 'isidentifier',\n",
              " 'islower',\n",
              " 'isnumeric',\n",
              " 'isprintable',\n",
              " 'isspace',\n",
              " 'istitle',\n",
              " 'isupper',\n",
              " 'join',\n",
              " 'ljust',\n",
              " 'lower',\n",
              " 'lstrip',\n",
              " 'maketrans',\n",
              " 'partition',\n",
              " 'removeprefix',\n",
              " 'removesuffix',\n",
              " 'replace',\n",
              " 'rfind',\n",
              " 'rindex',\n",
              " 'rjust',\n",
              " 'rpartition',\n",
              " 'rsplit',\n",
              " 'rstrip',\n",
              " 'split',\n",
              " 'splitlines',\n",
              " 'startswith',\n",
              " 'strip',\n",
              " 'swapcase',\n",
              " 'title',\n",
              " 'translate',\n",
              " 'upper',\n",
              " 'zfill']"
            ]
          },
          "metadata": {},
          "execution_count": 10
        }
      ]
    },
    {
      "cell_type": "code",
      "source": [
        "word.upper()"
      ],
      "metadata": {
        "colab": {
          "base_uri": "https://localhost:8080/",
          "height": 36
        },
        "id": "4OnlS1dKLUG_",
        "outputId": "5eeb124f-c207-46b7-f3cd-a14163fbd6dd"
      },
      "execution_count": null,
      "outputs": [
        {
          "output_type": "execute_result",
          "data": {
            "text/plain": [
              "'FUCKMEFUCKEMFUCKEMFUD'"
            ],
            "application/vnd.google.colaboratory.intrinsic+json": {
              "type": "string"
            }
          },
          "metadata": {},
          "execution_count": 4
        }
      ]
    },
    {
      "cell_type": "code",
      "source": [
        "help(word.upper())"
      ],
      "metadata": {
        "colab": {
          "base_uri": "https://localhost:8080/"
        },
        "id": "UV23KlHuySL8",
        "outputId": "38f94b6e-14ee-4703-875a-45a973dc1629"
      },
      "execution_count": null,
      "outputs": [
        {
          "output_type": "stream",
          "name": "stdout",
          "text": [
            "No Python documentation found for 'FUCKMEFUCKEMFUCKEMFUD'.\n",
            "Use help() to get the interactive help utility.\n",
            "Use help(str) for help on the str class.\n",
            "\n"
          ]
        }
      ]
    },
    {
      "cell_type": "code",
      "source": [
        "word.find('m')"
      ],
      "metadata": {
        "colab": {
          "base_uri": "https://localhost:8080/"
        },
        "id": "NNbLFRFWyh3J",
        "outputId": "22ce3496-d3be-437a-f2a5-a17ffb4dc5ba"
      },
      "execution_count": null,
      "outputs": [
        {
          "output_type": "execute_result",
          "data": {
            "text/plain": [
              "4"
            ]
          },
          "metadata": {},
          "execution_count": 10
        }
      ]
    },
    {
      "cell_type": "code",
      "source": [
        "line = 'My name is zain               '\n",
        "line.strip()"
      ],
      "metadata": {
        "colab": {
          "base_uri": "https://localhost:8080/",
          "height": 36
        },
        "id": "x9NDdWd3ypMP",
        "outputId": "ef4ce68b-a637-470c-aed1-3837c79204bc"
      },
      "execution_count": null,
      "outputs": [
        {
          "output_type": "execute_result",
          "data": {
            "text/plain": [
              "'My name is zain'"
            ],
            "application/vnd.google.colaboratory.intrinsic+json": {
              "type": "string"
            }
          },
          "metadata": {},
          "execution_count": 13
        }
      ]
    },
    {
      "cell_type": "code",
      "source": [
        "line.startswith('My')"
      ],
      "metadata": {
        "colab": {
          "base_uri": "https://localhost:8080/"
        },
        "id": "bcmkCMG5y83b",
        "outputId": "e244cf8e-4c14-4866-ff4d-1a2a05d561e6"
      },
      "execution_count": null,
      "outputs": [
        {
          "output_type": "execute_result",
          "data": {
            "text/plain": [
              "True"
            ]
          },
          "metadata": {},
          "execution_count": 16
        }
      ]
    },
    {
      "cell_type": "code",
      "source": [
        "word = 'Pakistan'\n",
        "dic = {}\n",
        "for i in word:\n",
        "  if i not in dic:\n",
        "    dic[i] = 1\n",
        "  else:\n",
        "    dic[i] = dic[i] + 1\n",
        "print(dic)"
      ],
      "metadata": {
        "colab": {
          "base_uri": "https://localhost:8080/"
        },
        "id": "GtE7AmZKzGOE",
        "outputId": "5e227560-6876-4475-db55-1c7a30424146"
      },
      "execution_count": null,
      "outputs": [
        {
          "output_type": "stream",
          "name": "stdout",
          "text": [
            "{'P': 1, 'a': 2, 'k': 1, 'i': 1, 's': 1, 't': 1, 'n': 1}\n"
          ]
        }
      ]
    },
    {
      "cell_type": "code",
      "source": [
        "RollNumbers = {'1':'Zain','2':'Abdullah','3':'Shahzain','4':'Rehman'}\n",
        "print(RollNumbers.get('1','Null'))\n",
        "print(RollNumbers.get('10','UDEMY'))\n"
      ],
      "metadata": {
        "colab": {
          "base_uri": "https://localhost:8080/"
        },
        "id": "TQpqq5KqWMyu",
        "outputId": "84213ca6-3dd8-4abc-de11-d30c4f471b26"
      },
      "execution_count": null,
      "outputs": [
        {
          "output_type": "stream",
          "name": "stdout",
          "text": [
            "Zain\n",
            "UDEMY\n"
          ]
        }
      ]
    },
    {
      "cell_type": "code",
      "source": [
        "import numpy as np"
      ],
      "metadata": {
        "id": "HJoripN0XnjS"
      },
      "execution_count": null,
      "outputs": []
    },
    {
      "cell_type": "code",
      "source": [
        "x=np.array([1,2,3,4,5])\n",
        "print(x.shape)"
      ],
      "metadata": {
        "colab": {
          "base_uri": "https://localhost:8080/"
        },
        "id": "PV2chxVoNQLe",
        "outputId": "b0436884-cc7d-45ab-b35e-60e0af0719bf"
      },
      "execution_count": null,
      "outputs": [
        {
          "output_type": "stream",
          "name": "stdout",
          "text": [
            "(5,)\n"
          ]
        }
      ]
    },
    {
      "cell_type": "code",
      "source": [
        "type(x)"
      ],
      "metadata": {
        "colab": {
          "base_uri": "https://localhost:8080/"
        },
        "id": "rmH9brb8NZ3X",
        "outputId": "a7176e33-49e7-4442-a2fe-d28f56fc8bcd"
      },
      "execution_count": null,
      "outputs": [
        {
          "output_type": "execute_result",
          "data": {
            "text/plain": [
              "numpy.ndarray"
            ]
          },
          "metadata": {},
          "execution_count": 5
        }
      ]
    },
    {
      "cell_type": "code",
      "source": [
        "x[0] = 7\n",
        "print(x)"
      ],
      "metadata": {
        "colab": {
          "base_uri": "https://localhost:8080/"
        },
        "id": "SbRdaqy0Nggv",
        "outputId": "53ee1f21-c317-4a1d-b8dc-f577f5cac7aa"
      },
      "execution_count": null,
      "outputs": [
        {
          "output_type": "stream",
          "name": "stdout",
          "text": [
            "[7 2 3 4 5]\n"
          ]
        }
      ]
    },
    {
      "cell_type": "code",
      "source": [
        "new = np.array([1,2,3,4])\n",
        "x= new>2\n",
        "print(x)\n",
        "new[x]"
      ],
      "metadata": {
        "colab": {
          "base_uri": "https://localhost:8080/"
        },
        "id": "w13ivc63NohT",
        "outputId": "e6fb6417-9f45-440b-b9c5-e6eb4cefe49d"
      },
      "execution_count": null,
      "outputs": [
        {
          "output_type": "stream",
          "name": "stdout",
          "text": [
            "[False False  True  True]\n"
          ]
        },
        {
          "output_type": "execute_result",
          "data": {
            "text/plain": [
              "array([3, 4])"
            ]
          },
          "metadata": {},
          "execution_count": 25
        }
      ]
    },
    {
      "cell_type": "code",
      "source": [
        "new.shape"
      ],
      "metadata": {
        "colab": {
          "base_uri": "https://localhost:8080/"
        },
        "id": "7BpGFyX1OzMq",
        "outputId": "34991b7a-16b9-42c2-acb5-c052a0eb02c9"
      },
      "execution_count": null,
      "outputs": [
        {
          "output_type": "execute_result",
          "data": {
            "text/plain": [
              "(1, 4)"
            ]
          },
          "metadata": {},
          "execution_count": 8
        }
      ]
    },
    {
      "cell_type": "code",
      "source": [
        "new = np.array([[1,4,5],[2,3,4],[7,8,6]])\n",
        "new[:,2]"
      ],
      "metadata": {
        "colab": {
          "base_uri": "https://localhost:8080/"
        },
        "id": "2BQRRV6pO1-C",
        "outputId": "a346262a-2d32-4beb-8aef-12f0069e662f"
      },
      "execution_count": null,
      "outputs": [
        {
          "output_type": "execute_result",
          "data": {
            "text/plain": [
              "array([5, 4, 6])"
            ]
          },
          "metadata": {},
          "execution_count": 20
        }
      ]
    },
    {
      "cell_type": "code",
      "source": [
        "new.shape"
      ],
      "metadata": {
        "colab": {
          "base_uri": "https://localhost:8080/"
        },
        "id": "stl25cYCPCJz",
        "outputId": "a6ec0ff7-b24d-4edc-8937-3c2b93d1db97"
      },
      "execution_count": null,
      "outputs": [
        {
          "output_type": "execute_result",
          "data": {
            "text/plain": [
              "(2, 3)"
            ]
          },
          "metadata": {},
          "execution_count": 12
        }
      ]
    },
    {
      "cell_type": "code",
      "source": [
        "matrix1= np.array([1,2,3,4,5])\n",
        "matrix2= np.array([1,2,3,4,5])\n",
        "sum = matrix1+matrix2"
      ],
      "metadata": {
        "id": "RifGZRWQPQ6V"
      },
      "execution_count": null,
      "outputs": []
    },
    {
      "cell_type": "code",
      "source": [
        "sum.T\n"
      ],
      "metadata": {
        "colab": {
          "base_uri": "https://localhost:8080/"
        },
        "id": "pIlq3QpEZYJg",
        "outputId": "1400fc34-6c78-4cdd-c0bf-685a671270a4"
      },
      "execution_count": null,
      "outputs": [
        {
          "output_type": "execute_result",
          "data": {
            "text/plain": [
              "array([ 2,  4,  6,  8, 10])"
            ]
          },
          "metadata": {},
          "execution_count": 28
        }
      ]
    },
    {
      "cell_type": "markdown",
      "source": [
        "Suppose we want to add some matric element to each row\n"
      ],
      "metadata": {
        "id": "uGSiNw600NRO"
      }
    },
    {
      "cell_type": "code",
      "source": [
        "mat = np.array([[1,2,3],[3,5,3],[123,2,1],[5,4,2]])"
      ],
      "metadata": {
        "id": "qn-tFbWkZZyP"
      },
      "execution_count": null,
      "outputs": []
    },
    {
      "cell_type": "code",
      "source": [
        "vect1 = np.array([1,0,1])\n"
      ],
      "metadata": {
        "id": "BLO6h2gF0jbr"
      },
      "execution_count": null,
      "outputs": []
    },
    {
      "cell_type": "code",
      "source": [
        "new_vect =vect1+mat"
      ],
      "metadata": {
        "id": "EBQvW_Wz08Qg"
      },
      "execution_count": null,
      "outputs": []
    },
    {
      "cell_type": "code",
      "source": [
        "new_vect"
      ],
      "metadata": {
        "colab": {
          "base_uri": "https://localhost:8080/"
        },
        "id": "wDw4vT0H09vo",
        "outputId": "d39a00ff-e64b-448b-cadb-bdbcdab83f87"
      },
      "execution_count": null,
      "outputs": [
        {
          "output_type": "execute_result",
          "data": {
            "text/plain": [
              "array([[  2,   2,   4],\n",
              "       [  4,   5,   4],\n",
              "       [124,   2,   2],\n",
              "       [  6,   4,   3]])"
            ]
          },
          "metadata": {},
          "execution_count": 12
        }
      ]
    },
    {
      "cell_type": "code",
      "source": [
        "new_array\n"
      ],
      "metadata": {
        "colab": {
          "base_uri": "https://localhost:8080/"
        },
        "id": "N3G7wtWM1OG5",
        "outputId": "0ba6de30-3672-4437-f4bb-813b2aba7345"
      },
      "execution_count": null,
      "outputs": [
        {
          "output_type": "execute_result",
          "data": {
            "text/plain": [
              "array([[  2,   2,   4],\n",
              "       [  4,   5,   4],\n",
              "       [124,   2,   2],\n",
              "       [  6,   4,   3]])"
            ]
          },
          "metadata": {},
          "execution_count": 9
        }
      ]
    },
    {
      "cell_type": "markdown",
      "source": [
        "broadcasting in numpy"
      ],
      "metadata": {
        "id": "vm7TCTsV1dsa"
      }
    },
    {
      "cell_type": "code",
      "source": [],
      "metadata": {
        "id": "NB3PE3c31QrJ"
      },
      "execution_count": null,
      "outputs": []
    }
  ]
}